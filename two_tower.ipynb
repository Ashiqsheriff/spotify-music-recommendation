{
  "cells": [
    {
      "cell_type": "code",
      "execution_count": null,
      "metadata": {
        "id": "CjZnetSWIfLU"
      },
      "outputs": [],
      "source": [
        "import torch\n",
        "import torch.nn as nn\n",
        "import torch.optim as optim\n",
        "from sklearn.model_selection import train_test_split\n",
        "from sklearn.preprocessing import LabelEncoder, StandardScaler\n",
        "from torch.utils.data import DataLoader, Dataset\n",
        "import pandas as pd"
      ]
    },
    {
      "cell_type": "code",
      "execution_count": null,
      "metadata": {
        "id": "L-o6WUqjIfLZ"
      },
      "outputs": [],
      "source": [
        "spotify_data = pd.read_csv(\"spotify_synthetic_data.csv\")"
      ]
    },
    {
      "cell_type": "code",
      "execution_count": null,
      "metadata": {
        "id": "hkHGfxZPIfLa"
      },
      "outputs": [],
      "source": [
        "# Preprocessing\n",
        "def preprocess_data(data):\n",
        "    # Encode categorical features\n",
        "    label_encoders = {}\n",
        "    for col in ['track_name', 'artist', 'album', 'genre']:\n",
        "        le = LabelEncoder()\n",
        "        data[col] = le.fit_transform(data[col])\n",
        "        label_encoders[col] = le\n",
        "\n",
        "    # Scale numerical features\n",
        "    scaler = StandardScaler()\n",
        "    numerical_features = ['danceability', 'energy', 'loudness', 'speechiness', 'acousticness',\n",
        "                          'instrumentalness', 'liveness', 'valence', 'tempo']\n",
        "    data[numerical_features] = scaler.fit_transform(data[numerical_features])\n",
        "\n",
        "    return data, label_encoders, scaler\n",
        "\n",
        "spotify_data, label_encoders, scaler = preprocess_data(spotify_data)\n"
      ]
    },
    {
      "cell_type": "code",
      "execution_count": null,
      "metadata": {
        "id": "btW8EHmtIfLb"
      },
      "outputs": [],
      "source": [
        "\n",
        "# Splitting data\n",
        "X = spotify_data[['track_name', 'artist', 'album', 'genre', 'danceability', 'energy', 'loudness',\n",
        "                  'speechiness', 'acousticness', 'instrumentalness', 'liveness', 'valence', 'tempo']]\n",
        "y = spotify_data['genre']  # Using genre as the recommendation target\n",
        "X_train, X_test, y_train, y_test = train_test_split(X, y, test_size=0.2, random_state=42)"
      ]
    },
    {
      "cell_type": "code",
      "execution_count": null,
      "metadata": {
        "id": "0zg2rzOcIfLb"
      },
      "outputs": [],
      "source": [
        "# Dataset class\n",
        "class SpotifyDataset(Dataset):\n",
        "    def __init__(self, X, y):\n",
        "        self.X = X\n",
        "        self.y = y\n",
        "\n",
        "    def __len__(self):\n",
        "        return len(self.X)\n",
        "\n",
        "    def __getitem__(self, idx):\n",
        "        user_input = torch.tensor(self.X.iloc[idx, 0], dtype=torch.long)  # track_name\n",
        "        item_input = torch.tensor(self.X.iloc[idx, 1], dtype=torch.long)  # artist\n",
        "        numerical_features = torch.tensor(self.X.iloc[idx, 4:].values, dtype=torch.float32)  # numerical features\n",
        "        label = torch.tensor(self.y.iloc[idx], dtype=torch.long)  # genre\n",
        "        return user_input, item_input, numerical_features, label\n"
      ]
    },
    {
      "cell_type": "code",
      "execution_count": null,
      "metadata": {
        "id": "N7gprLZSIfLc"
      },
      "outputs": [],
      "source": [
        "train_dataset = SpotifyDataset(X_train, y_train)\n",
        "test_dataset = SpotifyDataset(X_test, y_test)\n",
        "\n",
        "train_loader = DataLoader(train_dataset, batch_size=32, shuffle=True)\n",
        "test_loader = DataLoader(test_dataset, batch_size=32, shuffle=False)\n"
      ]
    },
    {
      "cell_type": "code",
      "execution_count": null,
      "metadata": {
        "id": "oiQvvnWeIfLc"
      },
      "outputs": [],
      "source": [
        "# Two-Tower Model\n",
        "def create_embedding_layer(input_dim, output_dim):\n",
        "    return nn.Embedding(input_dim, output_dim)\n",
        "\n",
        "class TwoTowerRecommender(nn.Module):\n",
        "    def __init__(self, user_input_dim, item_input_dim, embed_dim):\n",
        "        super(TwoTowerRecommender, self).__init__()\n",
        "\n",
        "        # User tower\n",
        "        self.user_embedding = create_embedding_layer(user_input_dim, embed_dim)\n",
        "        self.user_fc = nn.Sequential(\n",
        "            nn.Linear(embed_dim, 128),\n",
        "            nn.ReLU(),\n",
        "            nn.Linear(128, 64)\n",
        "        )\n",
        "\n",
        "        # Item tower\n",
        "        self.item_embedding = create_embedding_layer(item_input_dim, embed_dim)\n",
        "        self.item_fc = nn.Sequential(\n",
        "            nn.Linear(embed_dim + 9, 128),  # 9 numerical features\n",
        "            nn.ReLU(),\n",
        "            nn.Linear(128, 64)\n",
        "        )\n",
        "\n",
        "    def forward(self, user_input, item_input, numerical_features):\n",
        "        # User tower\n",
        "        user_embed = self.user_embedding(user_input)\n",
        "        user_vector = self.user_fc(user_embed)\n",
        "\n",
        "        # Item tower\n",
        "        item_embed = self.item_embedding(item_input)\n",
        "        item_input_combined = torch.cat([item_embed, numerical_features], dim=1)\n",
        "        item_vector = self.item_fc(item_input_combined)\n",
        "\n",
        "        # Dot product for similarity\n",
        "        return torch.sum(user_vector * item_vector, dim=1)"
      ]
    },
    {
      "cell_type": "code",
      "execution_count": null,
      "metadata": {
        "id": "ICMBLQ35IfLd"
      },
      "outputs": [],
      "source": [
        "# Model instantiation\n",
        "user_input_dim = spotify_data['track_name'].nunique()\n",
        "item_input_dim = spotify_data['artist'].nunique()\n",
        "embed_dim = 50\n"
      ]
    },
    {
      "cell_type": "code",
      "execution_count": null,
      "metadata": {
        "id": "TPMHZRLCIfLd"
      },
      "outputs": [],
      "source": [
        "model = TwoTowerRecommender(user_input_dim, item_input_dim, embed_dim)\n",
        "criterion = nn.BCEWithLogitsLoss()\n",
        "optimizer = optim.Adam(model.parameters(), lr=0.001)"
      ]
    },
    {
      "cell_type": "code",
      "execution_count": null,
      "metadata": {
        "id": "oqagTc3DIfLe",
        "outputId": "3365843a-c16f-4559-8d8d-33defabd0e1f"
      },
      "outputs": [
        {
          "name": "stdout",
          "output_type": "stream",
          "text": [
            "Epoch [1/10], Loss: -197.5664\n",
            "Epoch [2/10], Loss: -5105.8124\n",
            "Epoch [3/10], Loss: -47110.4682\n",
            "Epoch [4/10], Loss: -270066.0439\n",
            "Epoch [5/10], Loss: -1150083.3306\n",
            "Epoch [6/10], Loss: -4095013.9475\n",
            "Epoch [7/10], Loss: -12122658.6100\n",
            "Epoch [8/10], Loss: -31946520.7800\n",
            "Epoch [9/10], Loss: -76296702.3200\n",
            "Epoch [10/10], Loss: -168488197.4400\n"
          ]
        }
      ],
      "source": [
        "# Training Loop\n",
        "num_epochs = 10\n",
        "for epoch in range(num_epochs):\n",
        "    model.train()\n",
        "    total_loss = 0\n",
        "\n",
        "    for user_input, item_input, numerical_features, labels in train_loader:\n",
        "        # Forward pass\n",
        "        outputs = model(user_input, item_input, numerical_features)\n",
        "        loss = criterion(outputs, labels.float())\n",
        "\n",
        "        # Backward pass\n",
        "        optimizer.zero_grad()\n",
        "        loss.backward()\n",
        "        optimizer.step()\n",
        "\n",
        "        total_loss += loss.item()\n",
        "\n",
        "    print(f\"Epoch [{epoch + 1}/{num_epochs}], Loss: {total_loss / len(train_loader):.4f}\")"
      ]
    },
    {
      "cell_type": "code",
      "execution_count": null,
      "metadata": {
        "id": "NH1YpzThIfLf"
      },
      "outputs": [],
      "source": [
        "# Function to recommend songs for a given user track\n",
        "def recommend_songs(user_track_id, candidate_songs, model, top_k=5):\n",
        "    model.eval()\n",
        "\n",
        "    user_input = torch.tensor([user_track_id] * len(candidate_songs), dtype=torch.long)\n",
        "    item_input = torch.tensor(candidate_songs['artist'].values, dtype=torch.long)\n",
        "    numerical_features = torch.tensor(candidate_songs.iloc[:, 4:].values, dtype=torch.float32)\n",
        "\n",
        "    with torch.no_grad():\n",
        "        scores = model(user_input, item_input, numerical_features)\n",
        "\n",
        "    # Attach scores to candidate songs\n",
        "    candidate_songs['score'] = scores.numpy()\n",
        "    recommendations = candidate_songs.sort_values(by='score', ascending=False).head(top_k)\n",
        "    return recommendations"
      ]
    },
    {
      "cell_type": "code",
      "execution_count": null,
      "metadata": {
        "id": "_io5QQ80IfLf",
        "outputId": "5af48d72-4790-4340-ac90-af58e6bb606b"
      },
      "outputs": [
        {
          "name": "stdout",
          "output_type": "stream",
          "text": [
            "      track_name  artist       score\n",
            "283         1206      37  83183416.0\n",
            "882         1871      45  72438920.0\n",
            "1331         371      93  61379428.0\n",
            "488         1433      96  61377024.0\n",
            "7           1778      86  60033172.0\n"
          ]
        }
      ],
      "source": [
        "user_track_id = 1041\n",
        "candidate_songs = spotify_data.sample(20)\n",
        "recommended_songs = recommend_songs(user_track_id, candidate_songs, model, top_k=5)\n",
        "print(recommended_songs[['track_name', 'artist', 'score']])"
      ]
    }
  ],
  "metadata": {
    "kernelspec": {
      "display_name": "pytorch_env",
      "language": "python",
      "name": "python3"
    },
    "language_info": {
      "codemirror_mode": {
        "name": "ipython",
        "version": 3
      },
      "file_extension": ".py",
      "mimetype": "text/x-python",
      "name": "python",
      "nbconvert_exporter": "python",
      "pygments_lexer": "ipython3",
      "version": "3.11.10"
    },
    "colab": {
      "provenance": []
    }
  },
  "nbformat": 4,
  "nbformat_minor": 0
}